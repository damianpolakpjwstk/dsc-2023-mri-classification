{
 "cells": [
  {
   "cell_type": "code",
   "execution_count": 1,
   "id": "initial_id",
   "metadata": {
    "collapsed": true,
    "ExecuteTime": {
     "end_time": "2023-11-18T17:51:49.196915136Z",
     "start_time": "2023-11-18T17:51:48.737912688Z"
    }
   },
   "outputs": [],
   "source": [
    "import numpy as np\n",
    "import pandas as pd\n",
    "import xgboost as xgb\n",
    "from sklearn.preprocessing import LabelEncoder, StandardScaler\n",
    "from sklearn.model_selection import train_test_split\n",
    "from sklearn.metrics import accuracy_score\n",
    "from sklearn.metrics import balanced_accuracy_score\n",
    "from sklearn.metrics import mean_squared_error, mean_absolute_error, r2_score"
   ]
  },
  {
   "cell_type": "markdown",
   "source": [
    "## Data preparation"
   ],
   "metadata": {
    "collapsed": false
   },
   "id": "6cf968bc09030783"
  },
  {
   "cell_type": "code",
   "execution_count": 2,
   "outputs": [],
   "source": [
    "y_columns = [\"AGE\", \"SEX_ID (1=m, 2=f)\"]\n",
    "drop_columns = [\"Unnamed: 0\", \"Subject\", \"HEIGHT\", \"ETHNIC_ID\", \"WEIGHT\", \"MARITAL_ID\", \"OCCUPATION_ID\", \"QUALIFICATION_ID\", \"DOB\", \"DATE_AVAILABLE\", \"STUDY_DATE\"]"
   ],
   "metadata": {
    "collapsed": false,
    "ExecuteTime": {
     "end_time": "2023-11-18T17:51:49.202919661Z",
     "start_time": "2023-11-18T17:51:49.198625831Z"
    }
   },
   "id": "484962aec830aec5"
  },
  {
   "cell_type": "code",
   "execution_count": 3,
   "outputs": [],
   "source": [
    "df_main = pd.read_csv(r\"ixi_tabular.csv\").dropna()\n",
    "df_main = df_main.drop(columns=drop_columns)"
   ],
   "metadata": {
    "collapsed": false,
    "ExecuteTime": {
     "end_time": "2023-11-18T17:51:49.246655641Z",
     "start_time": "2023-11-18T17:51:49.201736156Z"
    }
   },
   "id": "95211f6dda1b380f"
  },
  {
   "cell_type": "code",
   "execution_count": 4,
   "outputs": [],
   "source": [
    "train_df, valid_df = train_test_split(df_main, test_size=0.2, random_state=42)"
   ],
   "metadata": {
    "collapsed": false,
    "ExecuteTime": {
     "end_time": "2023-11-18T17:51:49.252284089Z",
     "start_time": "2023-11-18T17:51:49.250204977Z"
    }
   },
   "id": "9dfa9a54ca21bf22"
  },
  {
   "cell_type": "code",
   "execution_count": 5,
   "outputs": [],
   "source": [
    "train_X, train_y = train_df.drop(columns=y_columns), train_df[y_columns]\n",
    "valid_X, valid_y = valid_df.drop(columns=y_columns), valid_df[y_columns]"
   ],
   "metadata": {
    "collapsed": false,
    "ExecuteTime": {
     "end_time": "2023-11-18T17:51:49.294369046Z",
     "start_time": "2023-11-18T17:51:49.293842677Z"
    }
   },
   "id": "ef2791eb0b9d09df"
  },
  {
   "cell_type": "code",
   "execution_count": 6,
   "outputs": [],
   "source": [
    "scaler = StandardScaler()\n",
    "train_X = scaler.fit_transform(train_X.copy(deep=True))\n",
    "val_X = scaler.transform(valid_X.copy(deep=True))"
   ],
   "metadata": {
    "collapsed": false,
    "ExecuteTime": {
     "end_time": "2023-11-18T17:51:49.294630785Z",
     "start_time": "2023-11-18T17:51:49.294246117Z"
    }
   },
   "id": "5f41f7813827fb3b"
  },
  {
   "cell_type": "markdown",
   "source": [
    "## Data exploration"
   ],
   "metadata": {
    "collapsed": false
   },
   "id": "c12e61104943c1fd"
  },
  {
   "cell_type": "code",
   "execution_count": 7,
   "outputs": [
    {
     "data": {
      "text/plain": "<AxesSubplot: >"
     },
     "execution_count": 7,
     "metadata": {},
     "output_type": "execute_result"
    },
    {
     "data": {
      "text/plain": "<Figure size 640x480 with 1 Axes>",
      "image/png": "[encoded data removed]"
     },
     "metadata": {},
     "output_type": "display_data"
    }
   ],
   "source": [
    "df_main[\"AGE\"].hist()"
   ],
   "metadata": {
    "collapsed": false,
    "ExecuteTime": {
     "end_time": "2023-11-18T17:51:49.599035007Z",
     "start_time": "2023-11-18T17:51:49.294486568Z"
    }
   },
   "id": "170a109629a03b6c"
  },
  {
   "cell_type": "code",
   "execution_count": 8,
   "outputs": [
    {
     "data": {
      "text/plain": "2    0.557823\n1    0.442177\nName: SEX_ID (1=m, 2=f), dtype: float64"
     },
     "execution_count": 8,
     "metadata": {},
     "output_type": "execute_result"
    }
   ],
   "source": [
    "df_main[\"SEX_ID (1=m, 2=f)\"].value_counts() / len(df_main)"
   ],
   "metadata": {
    "collapsed": false,
    "ExecuteTime": {
     "end_time": "2023-11-18T17:51:49.651178638Z",
     "start_time": "2023-11-18T17:51:49.592144916Z"
    }
   },
   "id": "f6827befa65fae0b"
  },
  {
   "cell_type": "code",
   "execution_count": 9,
   "outputs": [
    {
     "data": {
      "text/plain": "<AxesSubplot: >"
     },
     "execution_count": 9,
     "metadata": {},
     "output_type": "execute_result"
    },
    {
     "data": {
      "text/plain": "<Figure size 640x480 with 1 Axes>",
      "image/png": "[encoded data removed]"
     },
     "metadata": {},
     "output_type": "display_data"
    }
   ],
   "source": [
    "df_main[\"SEX_ID (1=m, 2=f)\"].value_counts().plot(kind=\"bar\")"
   ],
   "metadata": {
    "collapsed": false,
    "ExecuteTime": {
     "end_time": "2023-11-18T17:51:49.706638760Z",
     "start_time": "2023-11-18T17:51:49.633964287Z"
    }
   },
   "id": "8d64b55e02c0829"
  },
  {
   "cell_type": "markdown",
   "source": [
    "## Classification"
   ],
   "metadata": {
    "collapsed": false
   },
   "id": "166a9fcfb106d5f1"
  },
  {
   "cell_type": "code",
   "execution_count": 10,
   "outputs": [],
   "source": [
    "le = LabelEncoder()\n",
    "le.fit(train_y[\"SEX_ID (1=m, 2=f)\"])\n",
    "train_y_classification = le.transform(train_y[\"SEX_ID (1=m, 2=f)\"])\n",
    "val_y_classification = le.transform(valid_y[\"SEX_ID (1=m, 2=f)\"])"
   ],
   "metadata": {
    "collapsed": false,
    "ExecuteTime": {
     "end_time": "2023-11-18T17:51:49.706918405Z",
     "start_time": "2023-11-18T17:51:49.681857040Z"
    }
   },
   "id": "f8e89b242b0854ef"
  },
  {
   "cell_type": "code",
   "execution_count": 11,
   "outputs": [
    {
     "data": {
      "text/plain": "XGBClassifier(base_score=None, booster=None, callbacks=None,\n              colsample_bylevel=None, colsample_bynode=None,\n              colsample_bytree=None, device=None, early_stopping_rounds=None,\n              enable_categorical=False, eval_metric=None, feature_types=None,\n              gamma=None, grow_policy=None, importance_type=None,\n              interaction_constraints=None, learning_rate=None, max_bin=None,\n              max_cat_threshold=None, max_cat_to_onehot=None,\n              max_delta_step=None, max_depth=None, max_leaves=None,\n              min_child_weight=None, missing=nan, monotone_constraints=None,\n              multi_strategy=None, n_estimators=None, n_jobs=None,\n              num_parallel_tree=None, random_state=None, ...)",
      "text/html": "<style>#sk-container-id-1 {color: black;background-color: white;}#sk-container-id-1 pre{padding: 0;}#sk-container-id-1 div.sk-toggleable {background-color: white;}#sk-container-id-1 label.sk-toggleable__label {cursor: pointer;display: block;width: 100%;margin-bottom: 0;padding: 0.3em;box-sizing: border-box;text-align: center;}#sk-container-id-1 label.sk-toggleable__label-arrow:before {content: \"▸\";float: left;margin-right: 0.25em;color: #696969;}#sk-container-id-1 label.sk-toggleable__label-arrow:hover:before {color: black;}#sk-container-id-1 div.sk-estimator:hover label.sk-toggleable__label-arrow:before {color: black;}#sk-container-id-1 div.sk-toggleable__content {max-height: 0;max-width: 0;overflow: hidden;text-align: left;background-color: #f0f8ff;}#sk-container-id-1 div.sk-toggleable__content pre {margin: 0.2em;color: black;border-radius: 0.25em;background-color: #f0f8ff;}#sk-container-id-1 input.sk-toggleable__control:checked~div.sk-toggleable__content {max-height: 200px;max-width: 100%;overflow: auto;}#sk-container-id-1 input.sk-toggleable__control:checked~label.sk-toggleable__label-arrow:before {content: \"▾\";}#sk-container-id-1 div.sk-estimator input.sk-toggleable__control:checked~label.sk-toggleable__label {background-color: #d4ebff;}#sk-container-id-1 div.sk-label input.sk-toggleable__control:checked~label.sk-toggleable__label {background-color: #d4ebff;}#sk-container-id-1 input.sk-hidden--visually {border: 0;clip: rect(1px 1px 1px 1px);clip: rect(1px, 1px, 1px, 1px);height: 1px;margin: -1px;overflow: hidden;padding: 0;position: absolute;width: 1px;}#sk-container-id-1 div.sk-estimator {font-family: monospace;background-color: #f0f8ff;border: 1px dotted black;border-radius: 0.25em;box-sizing: border-box;margin-bottom: 0.5em;}#sk-container-id-1 div.sk-estimator:hover {background-color: #d4ebff;}#sk-container-id-1 div.sk-parallel-item::after {content: \"\";width: 100%;border-bottom: 1px solid gray;flex-grow: 1;}#sk-container-id-1 div.sk-label:hover label.sk-toggleable__label {background-color: #d4ebff;}#sk-container-id-1 div.sk-serial::before {content: \"\";position: absolute;border-left: 1px solid gray;box-sizing: border-box;top: 0;bottom: 0;left: 50%;z-index: 0;}#sk-container-id-1 div.sk-serial {display: flex;flex-direction: column;align-items: center;background-color: white;padding-right: 0.2em;padding-left: 0.2em;position: relative;}#sk-container-id-1 div.sk-item {position: relative;z-index: 1;}#sk-container-id-1 div.sk-parallel {display: flex;align-items: stretch;justify-content: center;background-color: white;position: relative;}#sk-container-id-1 div.sk-item::before, #sk-container-id-1 div.sk-parallel-item::before {content: \"\";position: absolute;border-left: 1px solid gray;box-sizing: border-box;top: 0;bottom: 0;left: 50%;z-index: -1;}#sk-container-id-1 div.sk-parallel-item {display: flex;flex-direction: column;z-index: 1;position: relative;background-color: white;}#sk-container-id-1 div.sk-parallel-item:first-child::after {align-self: flex-end;width: 50%;}#sk-container-id-1 div.sk-parallel-item:last-child::after {align-self: flex-start;width: 50%;}#sk-container-id-1 div.sk-parallel-item:only-child::after {width: 0;}#sk-container-id-1 div.sk-dashed-wrapped {border: 1px dashed gray;margin: 0 0.4em 0.5em 0.4em;box-sizing: border-box;padding-bottom: 0.4em;background-color: white;}#sk-container-id-1 div.sk-label label {font-family: monospace;font-weight: bold;display: inline-block;line-height: 1.2em;}#sk-container-id-1 div.sk-label-container {text-align: center;}#sk-container-id-1 div.sk-container {/* jupyter's `normalize.less` sets `[hidden] { display: none; }` but bootstrap.min.css set `[hidden] { display: none !important; }` so we also need the `!important` here to be able to override the default hidden behavior on the sphinx rendered scikit-learn.org. See: https://github.com/scikit-learn/scikit-learn/issues/21755 */display: inline-block !important;position: relative;}#sk-container-id-1 div.sk-text-repr-fallback {display: none;}</style><div id=\"sk-container-id-1\" class=\"sk-top-container\"><div class=\"sk-text-repr-fallback\"><pre>XGBClassifier(base_score=None, booster=None, callbacks=None,\n              colsample_bylevel=None, colsample_bynode=None,\n              colsample_bytree=None, device=None, early_stopping_rounds=None,\n              enable_categorical=False, eval_metric=None, feature_types=None,\n              gamma=None, grow_policy=None, importance_type=None,\n              interaction_constraints=None, learning_rate=None, max_bin=None,\n              max_cat_threshold=None, max_cat_to_onehot=None,\n              max_delta_step=None, max_depth=None, max_leaves=None,\n              min_child_weight=None, missing=nan, monotone_constraints=None,\n              multi_strategy=None, n_estimators=None, n_jobs=None,\n              num_parallel_tree=None, random_state=None, ...)</pre><b>In a Jupyter environment, please rerun this cell to show the HTML representation or trust the notebook. <br />On GitHub, the HTML representation is unable to render, please try loading this page with nbviewer.org.</b></div><div class=\"sk-container\" hidden><div class=\"sk-item\"><div class=\"sk-estimator sk-toggleable\"><input class=\"sk-toggleable__control sk-hidden--visually\" id=\"sk-estimator-id-1\" type=\"checkbox\" checked><label for=\"sk-estimator-id-1\" class=\"sk-toggleable__label sk-toggleable__label-arrow\">XGBClassifier</label><div class=\"sk-toggleable__content\"><pre>XGBClassifier(base_score=None, booster=None, callbacks=None,\n              colsample_bylevel=None, colsample_bynode=None,\n              colsample_bytree=None, device=None, early_stopping_rounds=None,\n              enable_categorical=False, eval_metric=None, feature_types=None,\n              gamma=None, grow_policy=None, importance_type=None,\n              interaction_constraints=None, learning_rate=None, max_bin=None,\n              max_cat_threshold=None, max_cat_to_onehot=None,\n              max_delta_step=None, max_depth=None, max_leaves=None,\n              min_child_weight=None, missing=nan, monotone_constraints=None,\n              multi_strategy=None, n_estimators=None, n_jobs=None,\n              num_parallel_tree=None, random_state=None, ...)</pre></div></div></div></div></div>"
     },
     "execution_count": 11,
     "metadata": {},
     "output_type": "execute_result"
    }
   ],
   "source": [
    "model_classification = xgb.XGBClassifier()\n",
    "model_classification.fit(train_X, train_y_classification)"
   ],
   "metadata": {
    "collapsed": false,
    "ExecuteTime": {
     "end_time": "2023-11-18T17:51:51.195382339Z",
     "start_time": "2023-11-18T17:51:50.087837354Z"
    }
   },
   "id": "84fd1d5db6af77f2"
  },
  {
   "cell_type": "code",
   "execution_count": 12,
   "outputs": [
    {
     "name": "stdout",
     "output_type": "stream",
     "text": [
      "Validation accuracy: 0.7288135593220338\n",
      "Validation balanced accuracy: 0.7329411764705882\n"
     ]
    }
   ],
   "source": [
    "y_pred_val = model_classification.predict(val_X)\n",
    "acc_val = accuracy_score(val_y_classification, y_pred_val)\n",
    "print(f\"Validation accuracy: {acc_val}\")\n",
    "balanced_accuracy_val = balanced_accuracy_score(val_y_classification, y_pred_val)\n",
    "print(f\"Validation balanced accuracy: {balanced_accuracy_val}\")"
   ],
   "metadata": {
    "collapsed": false,
    "ExecuteTime": {
     "end_time": "2023-11-18T17:51:51.229926246Z",
     "start_time": "2023-11-18T17:51:51.185982239Z"
    }
   },
   "id": "f6fda159b66b6774"
  },
  {
   "cell_type": "markdown",
   "source": [
    "## Regression"
   ],
   "metadata": {
    "collapsed": false
   },
   "id": "b93a0f0975ad5e1c"
  },
  {
   "cell_type": "code",
   "execution_count": 13,
   "outputs": [
    {
     "data": {
      "text/plain": "XGBRegressor(base_score=None, booster=None, callbacks=None,\n             colsample_bylevel=None, colsample_bynode=None,\n             colsample_bytree=None, device=None, early_stopping_rounds=None,\n             enable_categorical=False, eval_metric=None, feature_types=None,\n             gamma=None, grow_policy=None, importance_type=None,\n             interaction_constraints=None, learning_rate=None, max_bin=None,\n             max_cat_threshold=None, max_cat_to_onehot=None,\n             max_delta_step=None, max_depth=None, max_leaves=None,\n             min_child_weight=None, missing=nan, monotone_constraints=None,\n             multi_strategy=None, n_estimators=None, n_jobs=None,\n             num_parallel_tree=None, random_state=None, ...)",
      "text/html": "<style>#sk-container-id-2 {color: black;background-color: white;}#sk-container-id-2 pre{padding: 0;}#sk-container-id-2 div.sk-toggleable {background-color: white;}#sk-container-id-2 label.sk-toggleable__label {cursor: pointer;display: block;width: 100%;margin-bottom: 0;padding: 0.3em;box-sizing: border-box;text-align: center;}#sk-container-id-2 label.sk-toggleable__label-arrow:before {content: \"▸\";float: left;margin-right: 0.25em;color: #696969;}#sk-container-id-2 label.sk-toggleable__label-arrow:hover:before {color: black;}#sk-container-id-2 div.sk-estimator:hover label.sk-toggleable__label-arrow:before {color: black;}#sk-container-id-2 div.sk-toggleable__content {max-height: 0;max-width: 0;overflow: hidden;text-align: left;background-color: #f0f8ff;}#sk-container-id-2 div.sk-toggleable__content pre {margin: 0.2em;color: black;border-radius: 0.25em;background-color: #f0f8ff;}#sk-container-id-2 input.sk-toggleable__control:checked~div.sk-toggleable__content {max-height: 200px;max-width: 100%;overflow: auto;}#sk-container-id-2 input.sk-toggleable__control:checked~label.sk-toggleable__label-arrow:before {content: \"▾\";}#sk-container-id-2 div.sk-estimator input.sk-toggleable__control:checked~label.sk-toggleable__label {background-color: #d4ebff;}#sk-container-id-2 div.sk-label input.sk-toggleable__control:checked~label.sk-toggleable__label {background-color: #d4ebff;}#sk-container-id-2 input.sk-hidden--visually {border: 0;clip: rect(1px 1px 1px 1px);clip: rect(1px, 1px, 1px, 1px);height: 1px;margin: -1px;overflow: hidden;padding: 0;position: absolute;width: 1px;}#sk-container-id-2 div.sk-estimator {font-family: monospace;background-color: #f0f8ff;border: 1px dotted black;border-radius: 0.25em;box-sizing: border-box;margin-bottom: 0.5em;}#sk-container-id-2 div.sk-estimator:hover {background-color: #d4ebff;}#sk-container-id-2 div.sk-parallel-item::after {content: \"\";width: 100%;border-bottom: 1px solid gray;flex-grow: 1;}#sk-container-id-2 div.sk-label:hover label.sk-toggleable__label {background-color: #d4ebff;}#sk-container-id-2 div.sk-serial::before {content: \"\";position: absolute;border-left: 1px solid gray;box-sizing: border-box;top: 0;bottom: 0;left: 50%;z-index: 0;}#sk-container-id-2 div.sk-serial {display: flex;flex-direction: column;align-items: center;background-color: white;padding-right: 0.2em;padding-left: 0.2em;position: relative;}#sk-container-id-2 div.sk-item {position: relative;z-index: 1;}#sk-container-id-2 div.sk-parallel {display: flex;align-items: stretch;justify-content: center;background-color: white;position: relative;}#sk-container-id-2 div.sk-item::before, #sk-container-id-2 div.sk-parallel-item::before {content: \"\";position: absolute;border-left: 1px solid gray;box-sizing: border-box;top: 0;bottom: 0;left: 50%;z-index: -1;}#sk-container-id-2 div.sk-parallel-item {display: flex;flex-direction: column;z-index: 1;position: relative;background-color: white;}#sk-container-id-2 div.sk-parallel-item:first-child::after {align-self: flex-end;width: 50%;}#sk-container-id-2 div.sk-parallel-item:last-child::after {align-self: flex-start;width: 50%;}#sk-container-id-2 div.sk-parallel-item:only-child::after {width: 0;}#sk-container-id-2 div.sk-dashed-wrapped {border: 1px dashed gray;margin: 0 0.4em 0.5em 0.4em;box-sizing: border-box;padding-bottom: 0.4em;background-color: white;}#sk-container-id-2 div.sk-label label {font-family: monospace;font-weight: bold;display: inline-block;line-height: 1.2em;}#sk-container-id-2 div.sk-label-container {text-align: center;}#sk-container-id-2 div.sk-container {/* jupyter's `normalize.less` sets `[hidden] { display: none; }` but bootstrap.min.css set `[hidden] { display: none !important; }` so we also need the `!important` here to be able to override the default hidden behavior on the sphinx rendered scikit-learn.org. See: https://github.com/scikit-learn/scikit-learn/issues/21755 */display: inline-block !important;position: relative;}#sk-container-id-2 div.sk-text-repr-fallback {display: none;}</style><div id=\"sk-container-id-2\" class=\"sk-top-container\"><div class=\"sk-text-repr-fallback\"><pre>XGBRegressor(base_score=None, booster=None, callbacks=None,\n             colsample_bylevel=None, colsample_bynode=None,\n             colsample_bytree=None, device=None, early_stopping_rounds=None,\n             enable_categorical=False, eval_metric=None, feature_types=None,\n             gamma=None, grow_policy=None, importance_type=None,\n             interaction_constraints=None, learning_rate=None, max_bin=None,\n             max_cat_threshold=None, max_cat_to_onehot=None,\n             max_delta_step=None, max_depth=None, max_leaves=None,\n             min_child_weight=None, missing=nan, monotone_constraints=None,\n             multi_strategy=None, n_estimators=None, n_jobs=None,\n             num_parallel_tree=None, random_state=None, ...)</pre><b>In a Jupyter environment, please rerun this cell to show the HTML representation or trust the notebook. <br />On GitHub, the HTML representation is unable to render, please try loading this page with nbviewer.org.</b></div><div class=\"sk-container\" hidden><div class=\"sk-item\"><div class=\"sk-estimator sk-toggleable\"><input class=\"sk-toggleable__control sk-hidden--visually\" id=\"sk-estimator-id-2\" type=\"checkbox\" checked><label for=\"sk-estimator-id-2\" class=\"sk-toggleable__label sk-toggleable__label-arrow\">XGBRegressor</label><div class=\"sk-toggleable__content\"><pre>XGBRegressor(base_score=None, booster=None, callbacks=None,\n             colsample_bylevel=None, colsample_bynode=None,\n             colsample_bytree=None, device=None, early_stopping_rounds=None,\n             enable_categorical=False, eval_metric=None, feature_types=None,\n             gamma=None, grow_policy=None, importance_type=None,\n             interaction_constraints=None, learning_rate=None, max_bin=None,\n             max_cat_threshold=None, max_cat_to_onehot=None,\n             max_delta_step=None, max_depth=None, max_leaves=None,\n             min_child_weight=None, missing=nan, monotone_constraints=None,\n             multi_strategy=None, n_estimators=None, n_jobs=None,\n             num_parallel_tree=None, random_state=None, ...)</pre></div></div></div></div></div>"
     },
     "execution_count": 13,
     "metadata": {},
     "output_type": "execute_result"
    }
   ],
   "source": [
    "model_regression = xgb.XGBRegressor()\n",
    "train_y = train_y[\"AGE\"].to_numpy()\n",
    "val_y = valid_y[\"AGE\"].to_numpy()\n",
    "model_regression.fit(train_X, train_y)"
   ],
   "metadata": {
    "collapsed": false,
    "ExecuteTime": {
     "end_time": "2023-11-18T17:51:53.098385154Z",
     "start_time": "2023-11-18T17:51:51.843774007Z"
    }
   },
   "id": "74a52df0aad2f464"
  },
  {
   "cell_type": "code",
   "execution_count": 14,
   "outputs": [],
   "source": [
    "y_pred_val = model_regression.predict(val_X)\n",
    "mse_val = mean_squared_error(val_y, y_pred_val)\n",
    "mae_val = mean_absolute_error(val_y, y_pred_val)\n",
    "r2_val = r2_score(val_y, y_pred_val)"
   ],
   "metadata": {
    "collapsed": false,
    "ExecuteTime": {
     "end_time": "2023-11-18T17:52:00.477500896Z",
     "start_time": "2023-11-18T17:52:00.453157244Z"
    }
   },
   "id": "2a4dda67a0b2eaaf"
  },
  {
   "cell_type": "code",
   "execution_count": 15,
   "outputs": [
    {
     "name": "stdout",
     "output_type": "stream",
     "text": [
      "Validation MSE: 76.57194607674431\n",
      "Validation MAE: 6.922410762069809\n",
      "Validation R2: 0.7246617949568416\n"
     ]
    }
   ],
   "source": [
    "print(f\"Validation MSE: {mse_val}\")\n",
    "print(f\"Validation MAE: {mae_val}\")\n",
    "print(f\"Validation R2: {r2_val}\")"
   ],
   "metadata": {
    "collapsed": false,
    "ExecuteTime": {
     "end_time": "2023-11-18T17:52:00.906315431Z",
     "start_time": "2023-11-18T17:52:00.902592346Z"
    }
   },
   "id": "b38b0faa8bb6f9b6"
  },
  {
   "cell_type": "code",
   "execution_count": 16,
   "outputs": [
    {
     "data": {
      "text/plain": "array([[39.52001953, 41.229295  ],\n       [55.17074585, 39.03627652],\n       [70.75016785, 72.8843258 ],\n       [46.96259308, 43.15674196],\n       [60.70231247, 49.04312115],\n       [65.89597321, 67.45516769],\n       [61.36993027, 60.46269678],\n       [47.8817482 , 19.98083504],\n       [35.06438065, 26.98425736],\n       [30.18072891, 28.61327858],\n       [29.75991058, 23.53730322],\n       [36.77320099, 52.30116359],\n       [54.67146683, 49.40451745],\n       [68.45389557, 75.8275154 ],\n       [28.99549675, 32.93634497],\n       [63.41963196, 63.41957563],\n       [37.1523819 , 30.89390828],\n       [60.02090836, 55.08829569],\n       [55.01980209, 46.59000684],\n       [42.1943512 , 54.19301848],\n       [40.52650452, 28.24366872],\n       [40.77505875, 29.25667351],\n       [33.84465027, 42.98973306],\n       [36.75233459, 29.66461328],\n       [35.44078064, 56.67624914],\n       [63.83586502, 63.83572895],\n       [78.20406342, 78.20396988],\n       [30.59373665, 37.76591376],\n       [71.72985077, 68.48186174],\n       [52.70202637, 55.58110883],\n       [38.42036057, 20.1670089 ],\n       [36.81919861, 31.80835044],\n       [40.06292725, 36.06023272],\n       [58.33086777, 40.55578371],\n       [31.43151283, 29.77960301],\n       [53.08163834, 58.07255305],\n       [45.43481827, 35.45516769],\n       [67.91860199, 65.09514031],\n       [49.86529541, 59.14852841],\n       [47.29344559, 39.17590691],\n       [44.93566513, 31.61670089],\n       [43.6626091 , 41.30047912],\n       [54.87478256, 55.54004107],\n       [56.63564682, 63.04449008],\n       [30.9895916 , 20.69815195],\n       [26.34566116, 30.0698152 ],\n       [31.31065178, 31.84941821],\n       [53.37643814, 45.3798768 ],\n       [46.99048615, 58.28336756],\n       [34.43680573, 24.28473648],\n       [32.46580505, 28.34770705],\n       [52.24738693, 60.97467488],\n       [80.16986084, 80.16974675],\n       [27.95423317, 21.56605065],\n       [39.53908157, 41.51129363],\n       [25.98406982, 23.03901437],\n       [31.62226105, 27.01437372],\n       [58.59326935, 67.77275838],\n       [51.62738419, 60.90622861],\n       [58.47241974, 56.91991786],\n       [47.35464859, 53.67008898],\n       [62.6221199 , 44.85147159],\n       [61.78478241, 62.08350445],\n       [54.11922073, 70.71047228],\n       [32.59251785, 20.90896646],\n       [29.96575546, 23.69883641],\n       [39.58602142, 26.92402464],\n       [32.52998734, 42.78986995],\n       [69.66958618, 71.20602327],\n       [49.62255096, 45.77412731],\n       [52.10512161, 48.10130048],\n       [66.49678802, 68.48459959],\n       [65.23915863, 66.9486653 ],\n       [36.38986206, 24.85420945],\n       [38.03189468, 31.95619439],\n       [65.57989502, 74.98973306],\n       [37.30187225, 26.92950034],\n       [33.00217438, 20.92813142],\n       [76.50432587, 72.32580424],\n       [42.64733887, 61.36618754],\n       [47.83798599, 57.86447639],\n       [33.60317993, 30.18206708],\n       [56.59389114, 59.26351814],\n       [44.56256104, 53.30595483],\n       [52.75521088, 58.71594798],\n       [46.26820755, 52.12867899],\n       [66.74256897, 55.59753593],\n       [35.88302994, 41.09514031],\n       [34.22395325, 24.89527721],\n       [35.77093124, 40.5284052 ],\n       [50.28164673, 37.21013005],\n       [31.92140198, 21.19917864],\n       [55.83283997, 60.59685147],\n       [30.23529625, 31.46064339],\n       [42.08618546, 54.21492129],\n       [51.39311218, 61.06502396],\n       [65.6244812 , 67.05544148],\n       [38.37755203, 44.91991786],\n       [60.37503433, 63.18138261],\n       [30.46132469, 24.76386037],\n       [68.02455139, 69.68925394],\n       [58.22801971, 59.38124572],\n       [65.50709534, 60.8678987 ],\n       [58.81803513, 57.75496235],\n       [68.86354065, 69.06776181],\n       [37.55144119, 25.4072553 ],\n       [49.88680649, 49.40451745],\n       [38.47066498, 29.35797399],\n       [45.09963226, 26.39835729],\n       [30.44763184, 33.91649555],\n       [43.0498085 , 27.08281999],\n       [31.20282364, 35.02258727],\n       [37.01813507, 27.38945927],\n       [62.6441803 , 60.07392197],\n       [47.60528183, 46.36550308],\n       [64.92176819, 65.11430527],\n       [46.53387833, 54.4257358 ],\n       [27.33975029, 24.31211499]])"
     },
     "execution_count": 16,
     "metadata": {},
     "output_type": "execute_result"
    }
   ],
   "source": [
    "np.concatenate((y_pred_val.reshape(-1, 1), val_y.reshape(-1, 1)), axis=1)"
   ],
   "metadata": {
    "collapsed": false,
    "ExecuteTime": {
     "end_time": "2023-11-18T17:52:05.202130803Z",
     "start_time": "2023-11-18T17:52:05.198632209Z"
    }
   },
   "id": "138bc7c5dc157a2a"
  },
  {
   "cell_type": "markdown",
   "source": [
    "## Explainability"
   ],
   "metadata": {
    "collapsed": false
   },
   "id": "5bc5ee2517fde45"
  },
  {
   "cell_type": "code",
   "execution_count": 17,
   "outputs": [],
   "source": [
    "def get_xgboost_explanations(model, columns: list[str, ...]) -> pd.DataFrame:\n",
    "    \"\"\"\n",
    "    Get feature importance from XGBoost model and return a dataframe containing the 10 most important features.\n",
    "\n",
    "    :param model: XGBoost model object.\n",
    "    :param columns: List of column names.\n",
    "    :return: 10 most important features.\n",
    "    \"\"\"\n",
    "    explainations = []\n",
    "    for col, val in model.get_booster().get_score().items():\n",
    "        col_id = int(str(col)[1:])\n",
    "        col_name = columns[col_id]\n",
    "        explainations.append({\"feature\": col_name, \"importance\": val})\n",
    "    explain_df = pd.DataFrame(explainations).sort_values(\"importance\", ascending=False)\n",
    "    return explain_df.head(10)"
   ],
   "metadata": {
    "collapsed": false,
    "ExecuteTime": {
     "end_time": "2023-11-18T17:52:06.588059153Z",
     "start_time": "2023-11-18T17:52:06.583902150Z"
    }
   },
   "id": "8fe967101b36dd5"
  },
  {
   "cell_type": "code",
   "execution_count": 18,
   "outputs": [
    {
     "data": {
      "text/plain": "                                   feature  importance\n44      ctx-rh-inferiorparietal_Volume_mm3        17.0\n8                 4th-Ventricle_Volume_mm3        13.0\n149   ctx-rh-posteriorcingulate_normStdDev        13.0\n131      ctx-lh-parahippocampal_normStdDev        10.0\n45      ctx-rh-inferiortemporal_Volume_mm3        10.0\n50         ctx-rh-parsorbitalis_Volume_mm3        10.0\n43              ctx-rh-fusiform_Volume_mm3        10.0\n22               Right-Amygdala_Volume_mm3         8.0\n61   Left-Cerebellum-White-Matter_normMean         8.0\n204             ctx-rh-postcentral_normMax         8.0",
      "text/html": "<div>\n<style scoped>\n    .dataframe tbody tr th:only-of-type {\n        vertical-align: middle;\n    }\n\n    .dataframe tbody tr th {\n        vertical-align: top;\n    }\n\n    .dataframe thead th {\n        text-align: right;\n    }\n</style>\n<table border=\"1\" class=\"dataframe\">\n  <thead>\n    <tr style=\"text-align: right;\">\n      <th></th>\n      <th>feature</th>\n      <th>importance</th>\n    </tr>\n  </thead>\n  <tbody>\n    <tr>\n      <th>44</th>\n      <td>ctx-rh-inferiorparietal_Volume_mm3</td>\n      <td>17.0</td>\n    </tr>\n    <tr>\n      <th>8</th>\n      <td>4th-Ventricle_Volume_mm3</td>\n      <td>13.0</td>\n    </tr>\n    <tr>\n      <th>149</th>\n      <td>ctx-rh-posteriorcingulate_normStdDev</td>\n      <td>13.0</td>\n    </tr>\n    <tr>\n      <th>131</th>\n      <td>ctx-lh-parahippocampal_normStdDev</td>\n      <td>10.0</td>\n    </tr>\n    <tr>\n      <th>45</th>\n      <td>ctx-rh-inferiortemporal_Volume_mm3</td>\n      <td>10.0</td>\n    </tr>\n    <tr>\n      <th>50</th>\n      <td>ctx-rh-parsorbitalis_Volume_mm3</td>\n      <td>10.0</td>\n    </tr>\n    <tr>\n      <th>43</th>\n      <td>ctx-rh-fusiform_Volume_mm3</td>\n      <td>10.0</td>\n    </tr>\n    <tr>\n      <th>22</th>\n      <td>Right-Amygdala_Volume_mm3</td>\n      <td>8.0</td>\n    </tr>\n    <tr>\n      <th>61</th>\n      <td>Left-Cerebellum-White-Matter_normMean</td>\n      <td>8.0</td>\n    </tr>\n    <tr>\n      <th>204</th>\n      <td>ctx-rh-postcentral_normMax</td>\n      <td>8.0</td>\n    </tr>\n  </tbody>\n</table>\n</div>"
     },
     "execution_count": 18,
     "metadata": {},
     "output_type": "execute_result"
    }
   ],
   "source": [
    "get_xgboost_explanations(model_classification, train_df.drop(columns=y_columns).columns)"
   ],
   "metadata": {
    "collapsed": false,
    "ExecuteTime": {
     "end_time": "2023-11-18T17:52:07.267607779Z",
     "start_time": "2023-11-18T17:52:07.261023602Z"
    }
   },
   "id": "d1411f638945ea2b"
  },
  {
   "cell_type": "code",
   "execution_count": 19,
   "outputs": [
    {
     "data": {
      "text/plain": "                                    feature  importance\n0     Left-Cerebral-White-Matter_Volume_mm3       164.0\n1         Left-Lateral-Ventricle_Volume_mm3        73.0\n3   Left-Cerebellum-White-Matter_Volume_mm3        45.0\n2              Left-Inf-Lat-Vent_Volume_mm3        44.0\n6                   Left-Caudate_Volume_mm3        26.0\n5                  Left-Thalamus_Volume_mm3        25.0\n4         Left-Cerebellum-Cortex_Volume_mm3        22.0\n9                  3rd-Ventricle_Volume_mm3        21.0\n14                           CSF_Volume_mm3        20.0\n7                   Left-Putamen_Volume_mm3        18.0",
      "text/html": "<div>\n<style scoped>\n    .dataframe tbody tr th:only-of-type {\n        vertical-align: middle;\n    }\n\n    .dataframe tbody tr th {\n        vertical-align: top;\n    }\n\n    .dataframe thead th {\n        text-align: right;\n    }\n</style>\n<table border=\"1\" class=\"dataframe\">\n  <thead>\n    <tr style=\"text-align: right;\">\n      <th></th>\n      <th>feature</th>\n      <th>importance</th>\n    </tr>\n  </thead>\n  <tbody>\n    <tr>\n      <th>0</th>\n      <td>Left-Cerebral-White-Matter_Volume_mm3</td>\n      <td>164.0</td>\n    </tr>\n    <tr>\n      <th>1</th>\n      <td>Left-Lateral-Ventricle_Volume_mm3</td>\n      <td>73.0</td>\n    </tr>\n    <tr>\n      <th>3</th>\n      <td>Left-Cerebellum-White-Matter_Volume_mm3</td>\n      <td>45.0</td>\n    </tr>\n    <tr>\n      <th>2</th>\n      <td>Left-Inf-Lat-Vent_Volume_mm3</td>\n      <td>44.0</td>\n    </tr>\n    <tr>\n      <th>6</th>\n      <td>Left-Caudate_Volume_mm3</td>\n      <td>26.0</td>\n    </tr>\n    <tr>\n      <th>5</th>\n      <td>Left-Thalamus_Volume_mm3</td>\n      <td>25.0</td>\n    </tr>\n    <tr>\n      <th>4</th>\n      <td>Left-Cerebellum-Cortex_Volume_mm3</td>\n      <td>22.0</td>\n    </tr>\n    <tr>\n      <th>9</th>\n      <td>3rd-Ventricle_Volume_mm3</td>\n      <td>21.0</td>\n    </tr>\n    <tr>\n      <th>14</th>\n      <td>CSF_Volume_mm3</td>\n      <td>20.0</td>\n    </tr>\n    <tr>\n      <th>7</th>\n      <td>Left-Putamen_Volume_mm3</td>\n      <td>18.0</td>\n    </tr>\n  </tbody>\n</table>\n</div>"
     },
     "execution_count": 19,
     "metadata": {},
     "output_type": "execute_result"
    }
   ],
   "source": [
    "get_xgboost_explanations(model_regression, train_df.drop(columns=y_columns).columns)"
   ],
   "metadata": {
    "collapsed": false,
    "ExecuteTime": {
     "end_time": "2023-11-18T17:52:25.046427281Z",
     "start_time": "2023-11-18T17:52:25.001064452Z"
    }
   },
   "id": "8726fb8cc34e9442"
  }
 ],
 "metadata": {
  "kernelspec": {
   "display_name": "Python 3",
   "language": "python",
   "name": "python3"
  },
  "language_info": {
   "codemirror_mode": {
    "name": "ipython",
    "version": 2
   },
   "file_extension": ".py",
   "mimetype": "text/x-python",
   "name": "python",
   "nbconvert_exporter": "python",
   "pygments_lexer": "ipython2",
   "version": "2.7.6"
  }
 },
 "nbformat": 4,
 "nbformat_minor": 5
}
