{
 "cells": [
  {
   "cell_type": "code",
   "execution_count": 30,
   "id": "initial_id",
   "metadata": {
    "collapsed": true,
    "ExecuteTime": {
     "end_time": "2023-10-19T21:15:42.678969064Z",
     "start_time": "2023-10-19T21:15:42.636181648Z"
    }
   },
   "outputs": [],
   "source": [
    "import numpy as np\n",
    "import pandas as pd\n",
    "import xgboost as xgb\n",
    "from sklearn.preprocessing import LabelEncoder, StandardScaler\n",
    "from sklearn.model_selection import train_test_split\n",
    "from sklearn.metrics import accuracy_score\n",
    "from sklearn.metrics import balanced_accuracy_score\n",
    "from sklearn.metrics import mean_squared_error, mean_absolute_error, r2_score"
   ]
  },
  {
   "cell_type": "markdown",
   "source": [
    "## Data preparation"
   ],
   "metadata": {
    "collapsed": false
   },
   "id": "6cf968bc09030783"
  },
  {
   "cell_type": "code",
   "execution_count": 13,
   "outputs": [],
   "source": [
    "y_columns = [\"AGE\", \"SEX_ID (1=m, 2=f)\"]\n",
    "drop_columns = [\"Subject\", \"HEIGHT\", \"ETHNIC_ID\", \"MARITAL_ID\", \"OCCUPATION_ID\", \"QUALIFICATION_ID\", \"DOB\", \"DATE_AVAILABLE\", \"STUDY_DATE\"]"
   ],
   "metadata": {
    "collapsed": false,
    "ExecuteTime": {
     "end_time": "2023-10-19T21:14:05.037331410Z",
     "start_time": "2023-10-19T21:14:05.034234938Z"
    }
   },
   "id": "484962aec830aec5"
  },
  {
   "cell_type": "code",
   "execution_count": 14,
   "outputs": [],
   "source": [
    "df_main = pd.read_csv(r\"ixi_tabular.csv\").dropna()\n",
    "df_main = df_main.drop(columns=drop_columns)"
   ],
   "metadata": {
    "collapsed": false,
    "ExecuteTime": {
     "end_time": "2023-10-19T21:14:05.284766414Z",
     "start_time": "2023-10-19T21:14:05.252215914Z"
    }
   },
   "id": "95211f6dda1b380f"
  },
  {
   "cell_type": "code",
   "execution_count": 15,
   "outputs": [],
   "source": [
    "train_df, valid_df = train_test_split(df_main, test_size=0.2, random_state=42)"
   ],
   "metadata": {
    "collapsed": false,
    "ExecuteTime": {
     "end_time": "2023-10-19T21:14:05.451078318Z",
     "start_time": "2023-10-19T21:14:05.449132149Z"
    }
   },
   "id": "9dfa9a54ca21bf22"
  },
  {
   "cell_type": "code",
   "execution_count": 16,
   "outputs": [],
   "source": [
    "train_X, train_y = train_df.drop(columns=y_columns), train_df[y_columns]\n",
    "valid_X, valid_y = valid_df.drop(columns=y_columns), valid_df[y_columns]"
   ],
   "metadata": {
    "collapsed": false,
    "ExecuteTime": {
     "end_time": "2023-10-19T21:14:05.643166094Z",
     "start_time": "2023-10-19T21:14:05.641259643Z"
    }
   },
   "id": "ef2791eb0b9d09df"
  },
  {
   "cell_type": "code",
   "execution_count": 17,
   "outputs": [],
   "source": [
    "scaler = StandardScaler()\n",
    "train_X = scaler.fit_transform(train_X.copy(deep=True))\n",
    "val_X = scaler.transform(valid_X.copy(deep=True))"
   ],
   "metadata": {
    "collapsed": false,
    "ExecuteTime": {
     "end_time": "2023-10-19T21:14:05.791570793Z",
     "start_time": "2023-10-19T21:14:05.780077599Z"
    }
   },
   "id": "5f41f7813827fb3b"
  },
  {
   "cell_type": "markdown",
   "source": [
    "## Data exploration"
   ],
   "metadata": {
    "collapsed": false
   },
   "id": "c12e61104943c1fd"
  },
  {
   "cell_type": "code",
   "execution_count": 31,
   "outputs": [
    {
     "data": {
      "text/plain": "<AxesSubplot: >"
     },
     "execution_count": 31,
     "metadata": {},
     "output_type": "execute_result"
    },
    {
     "data": {
      "text/plain": "<Figure size 640x480 with 1 Axes>",
      "image/png": "[encoded data removed]"
     },
     "metadata": {},
     "output_type": "display_data"
    }
   ],
   "source": [
    "df_main[\"AGE\"].hist()"
   ],
   "metadata": {
    "collapsed": false,
    "ExecuteTime": {
     "end_time": "2023-10-19T21:21:01.327532854Z",
     "start_time": "2023-10-19T21:21:00.982223259Z"
    }
   },
   "id": "170a109629a03b6c"
  },
  {
   "cell_type": "code",
   "execution_count": 35,
   "outputs": [
    {
     "data": {
      "text/plain": "2    0.557823\n1    0.442177\nName: SEX_ID (1=m, 2=f), dtype: float64"
     },
     "execution_count": 35,
     "metadata": {},
     "output_type": "execute_result"
    }
   ],
   "source": [
    "df_main[\"SEX_ID (1=m, 2=f)\"].value_counts() / len(df_main)"
   ],
   "metadata": {
    "collapsed": false,
    "ExecuteTime": {
     "end_time": "2023-10-19T21:35:15.095149519Z",
     "start_time": "2023-10-19T21:35:15.047864783Z"
    }
   },
   "id": "f6827befa65fae0b"
  },
  {
   "cell_type": "code",
   "execution_count": 34,
   "outputs": [
    {
     "data": {
      "text/plain": "<AxesSubplot: >"
     },
     "execution_count": 34,
     "metadata": {},
     "output_type": "execute_result"
    },
    {
     "data": {
      "text/plain": "<Figure size 640x480 with 1 Axes>",
      "image/png": "[encoded data removed]"
     },
     "metadata": {},
     "output_type": "display_data"
    }
   ],
   "source": [
    "df_main[\"SEX_ID (1=m, 2=f)\"].value_counts().plot(kind=\"bar\")"
   ],
   "metadata": {
    "collapsed": false,
    "ExecuteTime": {
     "end_time": "2023-10-19T21:24:37.723549357Z",
     "start_time": "2023-10-19T21:24:37.657124298Z"
    }
   },
   "id": "8d64b55e02c0829"
  },
  {
   "cell_type": "markdown",
   "source": [
    "## Classification"
   ],
   "metadata": {
    "collapsed": false
   },
   "id": "166a9fcfb106d5f1"
  },
  {
   "cell_type": "code",
   "execution_count": 18,
   "outputs": [],
   "source": [
    "le = LabelEncoder()\n",
    "le.fit(train_y[\"SEX_ID (1=m, 2=f)\"])\n",
    "train_y_classification = le.transform(train_y[\"SEX_ID (1=m, 2=f)\"])\n",
    "val_y_classification = le.transform(valid_y[\"SEX_ID (1=m, 2=f)\"])"
   ],
   "metadata": {
    "collapsed": false,
    "ExecuteTime": {
     "end_time": "2023-10-19T21:14:06.402626781Z",
     "start_time": "2023-10-19T21:14:06.393179634Z"
    }
   },
   "id": "f8e89b242b0854ef"
  },
  {
   "cell_type": "code",
   "execution_count": 19,
   "outputs": [
    {
     "data": {
      "text/plain": "XGBClassifier(base_score=None, booster=None, callbacks=None,\n              colsample_bylevel=None, colsample_bynode=None,\n              colsample_bytree=None, device=None, early_stopping_rounds=None,\n              enable_categorical=False, eval_metric=None, feature_types=None,\n              gamma=None, grow_policy=None, importance_type=None,\n              interaction_constraints=None, learning_rate=None, max_bin=None,\n              max_cat_threshold=None, max_cat_to_onehot=None,\n              max_delta_step=None, max_depth=None, max_leaves=None,\n              min_child_weight=None, missing=nan, monotone_constraints=None,\n              multi_strategy=None, n_estimators=None, n_jobs=None,\n              num_parallel_tree=None, random_state=None, ...)",
      "text/html": "<style>#sk-container-id-3 {color: black;background-color: white;}#sk-container-id-3 pre{padding: 0;}#sk-container-id-3 div.sk-toggleable {background-color: white;}#sk-container-id-3 label.sk-toggleable__label {cursor: pointer;display: block;width: 100%;margin-bottom: 0;padding: 0.3em;box-sizing: border-box;text-align: center;}#sk-container-id-3 label.sk-toggleable__label-arrow:before {content: \"▸\";float: left;margin-right: 0.25em;color: #696969;}#sk-container-id-3 label.sk-toggleable__label-arrow:hover:before {color: black;}#sk-container-id-3 div.sk-estimator:hover label.sk-toggleable__label-arrow:before {color: black;}#sk-container-id-3 div.sk-toggleable__content {max-height: 0;max-width: 0;overflow: hidden;text-align: left;background-color: #f0f8ff;}#sk-container-id-3 div.sk-toggleable__content pre {margin: 0.2em;color: black;border-radius: 0.25em;background-color: #f0f8ff;}#sk-container-id-3 input.sk-toggleable__control:checked~div.sk-toggleable__content {max-height: 200px;max-width: 100%;overflow: auto;}#sk-container-id-3 input.sk-toggleable__control:checked~label.sk-toggleable__label-arrow:before {content: \"▾\";}#sk-container-id-3 div.sk-estimator input.sk-toggleable__control:checked~label.sk-toggleable__label {background-color: #d4ebff;}#sk-container-id-3 div.sk-label input.sk-toggleable__control:checked~label.sk-toggleable__label {background-color: #d4ebff;}#sk-container-id-3 input.sk-hidden--visually {border: 0;clip: rect(1px 1px 1px 1px);clip: rect(1px, 1px, 1px, 1px);height: 1px;margin: -1px;overflow: hidden;padding: 0;position: absolute;width: 1px;}#sk-container-id-3 div.sk-estimator {font-family: monospace;background-color: #f0f8ff;border: 1px dotted black;border-radius: 0.25em;box-sizing: border-box;margin-bottom: 0.5em;}#sk-container-id-3 div.sk-estimator:hover {background-color: #d4ebff;}#sk-container-id-3 div.sk-parallel-item::after {content: \"\";width: 100%;border-bottom: 1px solid gray;flex-grow: 1;}#sk-container-id-3 div.sk-label:hover label.sk-toggleable__label {background-color: #d4ebff;}#sk-container-id-3 div.sk-serial::before {content: \"\";position: absolute;border-left: 1px solid gray;box-sizing: border-box;top: 0;bottom: 0;left: 50%;z-index: 0;}#sk-container-id-3 div.sk-serial {display: flex;flex-direction: column;align-items: center;background-color: white;padding-right: 0.2em;padding-left: 0.2em;position: relative;}#sk-container-id-3 div.sk-item {position: relative;z-index: 1;}#sk-container-id-3 div.sk-parallel {display: flex;align-items: stretch;justify-content: center;background-color: white;position: relative;}#sk-container-id-3 div.sk-item::before, #sk-container-id-3 div.sk-parallel-item::before {content: \"\";position: absolute;border-left: 1px solid gray;box-sizing: border-box;top: 0;bottom: 0;left: 50%;z-index: -1;}#sk-container-id-3 div.sk-parallel-item {display: flex;flex-direction: column;z-index: 1;position: relative;background-color: white;}#sk-container-id-3 div.sk-parallel-item:first-child::after {align-self: flex-end;width: 50%;}#sk-container-id-3 div.sk-parallel-item:last-child::after {align-self: flex-start;width: 50%;}#sk-container-id-3 div.sk-parallel-item:only-child::after {width: 0;}#sk-container-id-3 div.sk-dashed-wrapped {border: 1px dashed gray;margin: 0 0.4em 0.5em 0.4em;box-sizing: border-box;padding-bottom: 0.4em;background-color: white;}#sk-container-id-3 div.sk-label label {font-family: monospace;font-weight: bold;display: inline-block;line-height: 1.2em;}#sk-container-id-3 div.sk-label-container {text-align: center;}#sk-container-id-3 div.sk-container {/* jupyter's `normalize.less` sets `[hidden] { display: none; }` but bootstrap.min.css set `[hidden] { display: none !important; }` so we also need the `!important` here to be able to override the default hidden behavior on the sphinx rendered scikit-learn.org. See: https://github.com/scikit-learn/scikit-learn/issues/21755 */display: inline-block !important;position: relative;}#sk-container-id-3 div.sk-text-repr-fallback {display: none;}</style><div id=\"sk-container-id-3\" class=\"sk-top-container\"><div class=\"sk-text-repr-fallback\"><pre>XGBClassifier(base_score=None, booster=None, callbacks=None,\n              colsample_bylevel=None, colsample_bynode=None,\n              colsample_bytree=None, device=None, early_stopping_rounds=None,\n              enable_categorical=False, eval_metric=None, feature_types=None,\n              gamma=None, grow_policy=None, importance_type=None,\n              interaction_constraints=None, learning_rate=None, max_bin=None,\n              max_cat_threshold=None, max_cat_to_onehot=None,\n              max_delta_step=None, max_depth=None, max_leaves=None,\n              min_child_weight=None, missing=nan, monotone_constraints=None,\n              multi_strategy=None, n_estimators=None, n_jobs=None,\n              num_parallel_tree=None, random_state=None, ...)</pre><b>In a Jupyter environment, please rerun this cell to show the HTML representation or trust the notebook. <br />On GitHub, the HTML representation is unable to render, please try loading this page with nbviewer.org.</b></div><div class=\"sk-container\" hidden><div class=\"sk-item\"><div class=\"sk-estimator sk-toggleable\"><input class=\"sk-toggleable__control sk-hidden--visually\" id=\"sk-estimator-id-3\" type=\"checkbox\" checked><label for=\"sk-estimator-id-3\" class=\"sk-toggleable__label sk-toggleable__label-arrow\">XGBClassifier</label><div class=\"sk-toggleable__content\"><pre>XGBClassifier(base_score=None, booster=None, callbacks=None,\n              colsample_bylevel=None, colsample_bynode=None,\n              colsample_bytree=None, device=None, early_stopping_rounds=None,\n              enable_categorical=False, eval_metric=None, feature_types=None,\n              gamma=None, grow_policy=None, importance_type=None,\n              interaction_constraints=None, learning_rate=None, max_bin=None,\n              max_cat_threshold=None, max_cat_to_onehot=None,\n              max_delta_step=None, max_depth=None, max_leaves=None,\n              min_child_weight=None, missing=nan, monotone_constraints=None,\n              multi_strategy=None, n_estimators=None, n_jobs=None,\n              num_parallel_tree=None, random_state=None, ...)</pre></div></div></div></div></div>"
     },
     "execution_count": 19,
     "metadata": {},
     "output_type": "execute_result"
    }
   ],
   "source": [
    "model_xgboost = xgb.XGBClassifier()\n",
    "model_xgboost.fit(train_X, train_y_classification)"
   ],
   "metadata": {
    "collapsed": false,
    "ExecuteTime": {
     "end_time": "2023-10-19T21:14:07.336671715Z",
     "start_time": "2023-10-19T21:14:06.730947386Z"
    }
   },
   "id": "84fd1d5db6af77f2"
  },
  {
   "cell_type": "code",
   "execution_count": 20,
   "outputs": [
    {
     "name": "stdout",
     "output_type": "stream",
     "text": [
      "Validation accuracy: 0.7711864406779662\n",
      "Validation balanced accuracy: 0.7697058823529412\n"
     ]
    }
   ],
   "source": [
    "y_pred_val = model_xgboost.predict(val_X)\n",
    "acc_val = accuracy_score(val_y_classification, y_pred_val)\n",
    "print(f\"Validation accuracy: {acc_val}\")\n",
    "balanced_accuracy_val = balanced_accuracy_score(val_y_classification, y_pred_val)\n",
    "print(f\"Validation balanced accuracy: {balanced_accuracy_val}\")"
   ],
   "metadata": {
    "collapsed": false,
    "ExecuteTime": {
     "end_time": "2023-10-19T21:14:08.804022468Z",
     "start_time": "2023-10-19T21:14:08.774257308Z"
    }
   },
   "id": "f6fda159b66b6774"
  },
  {
   "cell_type": "code",
   "execution_count": 21,
   "outputs": [
    {
     "data": {
      "text/plain": "XGBRegressor(base_score=None, booster=None, callbacks=None,\n             colsample_bylevel=None, colsample_bynode=None,\n             colsample_bytree=None, device=None, early_stopping_rounds=None,\n             enable_categorical=False, eval_metric=None, feature_types=None,\n             gamma=None, grow_policy=None, importance_type=None,\n             interaction_constraints=None, learning_rate=None, max_bin=None,\n             max_cat_threshold=None, max_cat_to_onehot=None,\n             max_delta_step=None, max_depth=None, max_leaves=None,\n             min_child_weight=None, missing=nan, monotone_constraints=None,\n             multi_strategy=None, n_estimators=None, n_jobs=None,\n             num_parallel_tree=None, random_state=None, ...)",
      "text/html": "<style>#sk-container-id-4 {color: black;background-color: white;}#sk-container-id-4 pre{padding: 0;}#sk-container-id-4 div.sk-toggleable {background-color: white;}#sk-container-id-4 label.sk-toggleable__label {cursor: pointer;display: block;width: 100%;margin-bottom: 0;padding: 0.3em;box-sizing: border-box;text-align: center;}#sk-container-id-4 label.sk-toggleable__label-arrow:before {content: \"▸\";float: left;margin-right: 0.25em;color: #696969;}#sk-container-id-4 label.sk-toggleable__label-arrow:hover:before {color: black;}#sk-container-id-4 div.sk-estimator:hover label.sk-toggleable__label-arrow:before {color: black;}#sk-container-id-4 div.sk-toggleable__content {max-height: 0;max-width: 0;overflow: hidden;text-align: left;background-color: #f0f8ff;}#sk-container-id-4 div.sk-toggleable__content pre {margin: 0.2em;color: black;border-radius: 0.25em;background-color: #f0f8ff;}#sk-container-id-4 input.sk-toggleable__control:checked~div.sk-toggleable__content {max-height: 200px;max-width: 100%;overflow: auto;}#sk-container-id-4 input.sk-toggleable__control:checked~label.sk-toggleable__label-arrow:before {content: \"▾\";}#sk-container-id-4 div.sk-estimator input.sk-toggleable__control:checked~label.sk-toggleable__label {background-color: #d4ebff;}#sk-container-id-4 div.sk-label input.sk-toggleable__control:checked~label.sk-toggleable__label {background-color: #d4ebff;}#sk-container-id-4 input.sk-hidden--visually {border: 0;clip: rect(1px 1px 1px 1px);clip: rect(1px, 1px, 1px, 1px);height: 1px;margin: -1px;overflow: hidden;padding: 0;position: absolute;width: 1px;}#sk-container-id-4 div.sk-estimator {font-family: monospace;background-color: #f0f8ff;border: 1px dotted black;border-radius: 0.25em;box-sizing: border-box;margin-bottom: 0.5em;}#sk-container-id-4 div.sk-estimator:hover {background-color: #d4ebff;}#sk-container-id-4 div.sk-parallel-item::after {content: \"\";width: 100%;border-bottom: 1px solid gray;flex-grow: 1;}#sk-container-id-4 div.sk-label:hover label.sk-toggleable__label {background-color: #d4ebff;}#sk-container-id-4 div.sk-serial::before {content: \"\";position: absolute;border-left: 1px solid gray;box-sizing: border-box;top: 0;bottom: 0;left: 50%;z-index: 0;}#sk-container-id-4 div.sk-serial {display: flex;flex-direction: column;align-items: center;background-color: white;padding-right: 0.2em;padding-left: 0.2em;position: relative;}#sk-container-id-4 div.sk-item {position: relative;z-index: 1;}#sk-container-id-4 div.sk-parallel {display: flex;align-items: stretch;justify-content: center;background-color: white;position: relative;}#sk-container-id-4 div.sk-item::before, #sk-container-id-4 div.sk-parallel-item::before {content: \"\";position: absolute;border-left: 1px solid gray;box-sizing: border-box;top: 0;bottom: 0;left: 50%;z-index: -1;}#sk-container-id-4 div.sk-parallel-item {display: flex;flex-direction: column;z-index: 1;position: relative;background-color: white;}#sk-container-id-4 div.sk-parallel-item:first-child::after {align-self: flex-end;width: 50%;}#sk-container-id-4 div.sk-parallel-item:last-child::after {align-self: flex-start;width: 50%;}#sk-container-id-4 div.sk-parallel-item:only-child::after {width: 0;}#sk-container-id-4 div.sk-dashed-wrapped {border: 1px dashed gray;margin: 0 0.4em 0.5em 0.4em;box-sizing: border-box;padding-bottom: 0.4em;background-color: white;}#sk-container-id-4 div.sk-label label {font-family: monospace;font-weight: bold;display: inline-block;line-height: 1.2em;}#sk-container-id-4 div.sk-label-container {text-align: center;}#sk-container-id-4 div.sk-container {/* jupyter's `normalize.less` sets `[hidden] { display: none; }` but bootstrap.min.css set `[hidden] { display: none !important; }` so we also need the `!important` here to be able to override the default hidden behavior on the sphinx rendered scikit-learn.org. See: https://github.com/scikit-learn/scikit-learn/issues/21755 */display: inline-block !important;position: relative;}#sk-container-id-4 div.sk-text-repr-fallback {display: none;}</style><div id=\"sk-container-id-4\" class=\"sk-top-container\"><div class=\"sk-text-repr-fallback\"><pre>XGBRegressor(base_score=None, booster=None, callbacks=None,\n             colsample_bylevel=None, colsample_bynode=None,\n             colsample_bytree=None, device=None, early_stopping_rounds=None,\n             enable_categorical=False, eval_metric=None, feature_types=None,\n             gamma=None, grow_policy=None, importance_type=None,\n             interaction_constraints=None, learning_rate=None, max_bin=None,\n             max_cat_threshold=None, max_cat_to_onehot=None,\n             max_delta_step=None, max_depth=None, max_leaves=None,\n             min_child_weight=None, missing=nan, monotone_constraints=None,\n             multi_strategy=None, n_estimators=None, n_jobs=None,\n             num_parallel_tree=None, random_state=None, ...)</pre><b>In a Jupyter environment, please rerun this cell to show the HTML representation or trust the notebook. <br />On GitHub, the HTML representation is unable to render, please try loading this page with nbviewer.org.</b></div><div class=\"sk-container\" hidden><div class=\"sk-item\"><div class=\"sk-estimator sk-toggleable\"><input class=\"sk-toggleable__control sk-hidden--visually\" id=\"sk-estimator-id-4\" type=\"checkbox\" checked><label for=\"sk-estimator-id-4\" class=\"sk-toggleable__label sk-toggleable__label-arrow\">XGBRegressor</label><div class=\"sk-toggleable__content\"><pre>XGBRegressor(base_score=None, booster=None, callbacks=None,\n             colsample_bylevel=None, colsample_bynode=None,\n             colsample_bytree=None, device=None, early_stopping_rounds=None,\n             enable_categorical=False, eval_metric=None, feature_types=None,\n             gamma=None, grow_policy=None, importance_type=None,\n             interaction_constraints=None, learning_rate=None, max_bin=None,\n             max_cat_threshold=None, max_cat_to_onehot=None,\n             max_delta_step=None, max_depth=None, max_leaves=None,\n             min_child_weight=None, missing=nan, monotone_constraints=None,\n             multi_strategy=None, n_estimators=None, n_jobs=None,\n             num_parallel_tree=None, random_state=None, ...)</pre></div></div></div></div></div>"
     },
     "execution_count": 21,
     "metadata": {},
     "output_type": "execute_result"
    }
   ],
   "source": [
    "model = xgb.XGBRegressor()\n",
    "train_y = train_y[\"AGE\"].to_numpy()\n",
    "val_y = valid_y[\"AGE\"].to_numpy()\n",
    "model.fit(train_X, train_y)"
   ],
   "metadata": {
    "collapsed": false,
    "ExecuteTime": {
     "end_time": "2023-10-19T21:14:11.160272932Z",
     "start_time": "2023-10-19T21:14:09.493297244Z"
    }
   },
   "id": "74a52df0aad2f464"
  },
  {
   "cell_type": "code",
   "execution_count": 22,
   "outputs": [],
   "source": [
    "y_pred_val = model.predict(val_X)\n",
    "mse_val = mean_squared_error(val_y, y_pred_val)\n",
    "mae_val = mean_absolute_error(val_y, y_pred_val)\n",
    "r2_val = r2_score(val_y, y_pred_val)"
   ],
   "metadata": {
    "collapsed": false,
    "ExecuteTime": {
     "end_time": "2023-10-19T21:14:11.847443930Z",
     "start_time": "2023-10-19T21:14:11.808246402Z"
    }
   },
   "id": "2a4dda67a0b2eaaf"
  },
  {
   "cell_type": "code",
   "execution_count": 23,
   "outputs": [
    {
     "name": "stdout",
     "output_type": "stream",
     "text": [
      "Validation MSE: 76.8443060804521\n",
      "Validation MAE: 6.972545011761109\n",
      "Validation R2: 0.7236824400052084\n"
     ]
    }
   ],
   "source": [
    "print(f\"Validation MSE: {mse_val}\")\n",
    "print(f\"Validation MAE: {mae_val}\")\n",
    "print(f\"Validation R2: {r2_val}\")"
   ],
   "metadata": {
    "collapsed": false,
    "ExecuteTime": {
     "end_time": "2023-10-19T21:14:12.580723669Z",
     "start_time": "2023-10-19T21:14:12.558691900Z"
    }
   },
   "id": "b38b0faa8bb6f9b6"
  },
  {
   "cell_type": "code",
   "execution_count": 29,
   "outputs": [
    {
     "data": {
      "text/plain": "array([[39.50761032, 41.229295  ],\n       [55.06528091, 39.03627652],\n       [70.75994873, 72.8843258 ],\n       [46.97366333, 43.15674196],\n       [60.83927155, 49.04312115],\n       [65.9045105 , 67.45516769],\n       [61.33227921, 60.46269678],\n       [47.87864685, 19.98083504],\n       [35.00588608, 26.98425736],\n       [30.19041061, 28.61327858],\n       [29.63243103, 23.53730322],\n       [39.80823898, 52.30116359],\n       [54.62612152, 49.40451745],\n       [69.03168488, 75.8275154 ],\n       [30.11634827, 32.93634497],\n       [63.41993332, 63.41957563],\n       [37.1133728 , 30.89390828],\n       [60.03393936, 55.08829569],\n       [53.09794998, 46.59000684],\n       [42.17461777, 54.19301848],\n       [40.55184174, 28.24366872],\n       [40.77590179, 29.25667351],\n       [33.80932617, 42.98973306],\n       [36.81934357, 29.66461328],\n       [35.45912552, 56.67624914],\n       [63.83571625, 63.83572895],\n       [78.20415497, 78.20396988],\n       [30.6860714 , 37.76591376],\n       [71.80931091, 68.48186174],\n       [52.47057724, 55.58110883],\n       [38.4582634 , 20.1670089 ],\n       [36.78499603, 31.80835044],\n       [40.07731628, 36.06023272],\n       [59.11828232, 40.55578371],\n       [31.20960808, 29.77960301],\n       [53.08170319, 58.07255305],\n       [45.44528961, 35.45516769],\n       [67.89315033, 65.09514031],\n       [50.09046555, 59.14852841],\n       [47.26335907, 39.17590691],\n       [46.52077484, 31.61670089],\n       [45.34696579, 41.30047912],\n       [54.84347534, 55.54004107],\n       [56.55765152, 63.04449008],\n       [31.05238533, 20.69815195],\n       [26.2115078 , 30.0698152 ],\n       [31.32107353, 31.84941821],\n       [53.41378403, 45.3798768 ],\n       [46.85826111, 58.28336756],\n       [34.46307755, 24.28473648],\n       [32.34470367, 28.34770705],\n       [52.25754929, 60.97467488],\n       [80.1697464 , 80.16974675],\n       [29.14644432, 21.56605065],\n       [39.56958771, 41.51129363],\n       [25.93198586, 23.03901437],\n       [31.61365318, 27.01437372],\n       [59.57229996, 67.77275838],\n       [51.69315338, 60.90622861],\n       [58.57315063, 56.91991786],\n       [47.28188705, 53.67008898],\n       [62.51729584, 44.85147159],\n       [61.78480911, 62.08350445],\n       [54.18292999, 70.71047228],\n       [33.16928864, 20.90896646],\n       [29.99368095, 23.69883641],\n       [39.56861877, 26.92402464],\n       [32.35387421, 42.78986995],\n       [64.23884583, 71.20602327],\n       [49.64642334, 45.77412731],\n       [52.06717682, 48.10130048],\n       [66.41018677, 68.48459959],\n       [65.33216858, 66.9486653 ],\n       [36.36639786, 24.85420945],\n       [38.01641846, 31.95619439],\n       [65.6305542 , 74.98973306],\n       [37.28681183, 26.92950034],\n       [33.01659012, 20.92813142],\n       [76.56797791, 72.32580424],\n       [42.82463074, 61.36618754],\n       [47.78244019, 57.86447639],\n       [33.48937225, 30.18206708],\n       [56.48427963, 59.26351814],\n       [44.62020111, 53.30595483],\n       [52.96593094, 58.71594798],\n       [46.29449463, 52.12867899],\n       [66.79123688, 55.59753593],\n       [36.08377075, 41.09514031],\n       [35.61029053, 24.89527721],\n       [35.82040024, 40.5284052 ],\n       [50.27265549, 37.21013005],\n       [31.77282715, 21.19917864],\n       [55.80295181, 60.59685147],\n       [30.21837234, 31.46064339],\n       [42.02326965, 54.21492129],\n       [51.34892273, 61.06502396],\n       [65.58610535, 67.05544148],\n       [38.32401276, 44.91991786],\n       [60.34509659, 63.18138261],\n       [30.38533974, 24.76386037],\n       [68.14785004, 69.68925394],\n       [58.29193115, 59.38124572],\n       [65.47625732, 60.8678987 ],\n       [58.87504959, 57.75496235],\n       [68.79721832, 69.06776181],\n       [37.58762741, 25.4072553 ],\n       [50.76184082, 49.40451745],\n       [38.38945007, 29.35797399],\n       [45.174263  , 26.39835729],\n       [30.48672676, 33.91649555],\n       [42.930439  , 27.08281999],\n       [30.59959793, 35.02258727],\n       [36.90529251, 27.38945927],\n       [62.7359314 , 60.07392197],\n       [47.70453262, 46.36550308],\n       [64.90649414, 65.11430527],\n       [46.46420288, 54.4257358 ],\n       [27.43859291, 24.31211499]])"
     },
     "execution_count": 29,
     "metadata": {},
     "output_type": "execute_result"
    }
   ],
   "source": [
    "np.concatenate((y_pred_val.reshape(-1, 1), val_y.reshape(-1, 1)), axis=1)"
   ],
   "metadata": {
    "collapsed": false,
    "ExecuteTime": {
     "end_time": "2023-10-19T21:15:17.617052137Z",
     "start_time": "2023-10-19T21:15:17.609180316Z"
    }
   },
   "id": "138bc7c5dc157a2a"
  }
 ],
 "metadata": {
  "kernelspec": {
   "display_name": "Python 3",
   "language": "python",
   "name": "python3"
  },
  "language_info": {
   "codemirror_mode": {
    "name": "ipython",
    "version": 2
   },
   "file_extension": ".py",
   "mimetype": "text/x-python",
   "name": "python",
   "nbconvert_exporter": "python",
   "pygments_lexer": "ipython2",
   "version": "2.7.6"
  }
 },
 "nbformat": 4,
 "nbformat_minor": 5
}
